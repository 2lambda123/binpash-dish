{
 "cells": [
  {
   "cell_type": "code",
   "execution_count": 5,
   "id": "c669d3a6",
   "metadata": {},
   "outputs": [],
   "source": [
    "import matplotlib.pyplot as plt\n",
    "import numpy as np\n",
    "import pandas as pd\n",
    "import seaborn as sns"
   ]
  },
  {
   "cell_type": "code",
   "execution_count": 6,
   "id": "e4d7886c",
   "metadata": {},
   "outputs": [],
   "source": [
    "def set_style():\n",
    "    # This sets reasonable defaults for font size for\n",
    "    # a figure that will go in a paper\n",
    "    sns.set_context(\"paper\")\n",
    "    \n",
    "    sns.set(rc={'figure.figsize':(11.7, 5.27)})\n",
    "    \n",
    "    # Set the font to be serif, rather than sans\n",
    "    sns.set(font='serif')\n",
    "    \n",
    "    # Make the background white, and specify the\n",
    "    # specific font family\n",
    "    sns.set_style(\"white\", {\n",
    "        \"font.family\": \"serif\",\n",
    "        \"font.serif\": [\"Times\", \"Palatino\", \"serif\"]\n",
    "    })\n",
    "    \n",
    "    sns.set_theme(style=\"ticks\", palette=\"pastel\")\n",
    "    \n",
    "\n",
    "set_style()"
   ]
  },
  {
   "cell_type": "code",
   "execution_count": 4,
   "id": "7e2417a7",
   "metadata": {},
   "outputs": [],
   "source": [
    "def parse_res(file, benchmark=\"not_provided\"):\n",
    "    try:\n",
    "        with open(file, 'r') as f:\n",
    "            lines = f.read().split(\"\\n\")\n",
    "    except:\n",
    "        print(f\"{file} not found\")\n",
    "        return pd.DataFrame()\n",
    "        \n",
    "    data = []\n",
    "    for line in lines:\n",
    "        if line:\n",
    "            try:\n",
    "                script, time = line.split()\n",
    "                if float(time) == 0.0:\n",
    "                    raise Exception()\n",
    "                sname = script.replace(\".sh:\", \"\")\n",
    "                data.append([f\"{sname}_{benchmark}\", sname, float(time)])\n",
    "            except:\n",
    "                print(f\"Skipping {line}\")\n",
    "    \n",
    "    df = pd.DataFrame(data, columns=[\"uid\", \"benchname\", \"exec_time\"])\n",
    "    df = df.set_index(\"uid\")\n",
    "    return df"
   ]
  },
  {
   "cell_type": "code",
   "execution_count": 27,
   "id": "04602c9d",
   "metadata": {},
   "outputs": [],
   "source": [
    "# folder = 'no_checksum'\n",
    "\n",
    "def average_dfs(dfs):\n",
    "    df = pd.concat(dfs)\n",
    "    df = df.groupby('bench_name').mean()\n",
    "    return df\n",
    "\n",
    "def get_summary_per_mode(benchmarks, modes):\n",
    "    # Returns a list of lists where each sublist contains all modes results for a benchmarks\n",
    "    all_benchs = []\n",
    "    for benchmark in benchmarks:\n",
    "        dfs = {}\n",
    "        for mode in modes:\n",
    "            df = parse_res(f'{benchmark}/outputs/{mode}/{benchmark}.res', benchmark)\n",
    "            dfs[mode] = df\n",
    "        all_benchs.append((benchmark, dfs))\n",
    "        \n",
    "    summary_per_mode = {}\n",
    "    for mode in modes:\n",
    "        summary = []\n",
    "        for benchmark, dfs in all_benchs:\n",
    "            dfs[mode]['benchmark'] = benchmark\n",
    "            summary.append(dfs[mode])\n",
    "\n",
    "        new_df = pd.concat(summary, axis = 0)\n",
    "        new_df['mode'] = mode\n",
    "        summary_per_mode[mode] = new_df\n",
    "    return summary_per_mode\n",
    "\n",
    "\n",
    "def remap_labels(df):\n",
    "    remap_mode = {'hadoopstreaming': \"Hadoop-streaming\", 'pash': \"PaSh\", 'dish': \"DiSh\", \"dish-no-du\": \"DiSh no DID\", \"fish\": \"FiSh\"}\n",
    "    df['mode'] = df['mode'].map(remap_mode)\n",
    "    remap_benchmark = {'nlp': 'NLP', 'oneliners': 'Classics', 'unix50': 'Unix50', 'covid-mts': 'COVID-mts'}\n",
    "    df['benchmark'] = df['benchmark'].replace(remap_benchmark)\n",
    "    df['benchname'] = df['benchname'].replace({ 'temp-analytics': 'AvgTemp' })\n",
    "    return df\n",
    "    \n",
    "\n",
    "def get_speedup_df(summary_per_mode):\n",
    "    dfs = []\n",
    "    for mode in summary_per_mode:\n",
    "        if mode == 'bash':\n",
    "            continue\n",
    "        summary_per_mode[mode]['speedup'] = summary_per_mode['bash']['exec_time']/summary_per_mode[mode]['exec_time']\n",
    "        summary_per_mode[mode].dropna()\n",
    "        dfs.append(summary_per_mode[mode])\n",
    "    summary_df = pd.concat(dfs, axis = 0)\n",
    "    summary_df.dropna()\n",
    "    \n",
    "    return remap_labels(summary_df)\n",
    "\n"
   ]
  },
  {
   "cell_type": "code",
   "execution_count": 28,
   "id": "794ff0e1",
   "metadata": {},
   "outputs": [
    {
     "name": "stdout",
     "output_type": "stream",
     "text": [
      "Skipping executing covid-mts dish Thu May 23 12:10:58 PM UTC 2024\n",
      "Skipping executing covid-mts pash Thu May 23 12:28:46 PM UTC 2024\n",
      "Skipping executing covid-mts bash Thu May 23 12:20:53 PM UTC 2024\n",
      "Skipping executing covid-mts fish Thu May 23 12:11:51 PM UTC 2024\n",
      "pash speedup over bash stats:\n",
      " Mean 2.726194597919521, Max 3.216466894977169, Min  1.3742294926505454\n",
      "dish speedup over bash stats:\n",
      " Mean 4.425543518214949, Max 4.826077647730517, Min  3.788562091503268\n",
      "fish speedup over bash stats:\n",
      " Mean 3.446586496895536, Max 3.9963950121151237, Min  2.266028146989836\n"
     ]
    }
   ],
   "source": [
    "# benchmarks = [\"oneliners\", \"unix50\", \"analytics-mts\", \"max-temp\", \"nlp\", \"dependency_untangling\"]\n",
    "# modes = [\"dish\", \"pash\", \"bash\", 'hadoopstreaming']\n",
    "\n",
    "benchmarks = [\"covid-mts\"]\n",
    "modes = [\"dish\", \"pash\", \"bash\", 'fish']\n",
    "summary_per_mode = get_summary_per_mode(benchmarks, modes)\n",
    "summary_df = pd.concat(summary_per_mode, axis = 1)\n",
    "\n",
    "# summary_df.to_csv(\"benchmarks.csv\")  \n",
    "def print_stats(df, baseline_mode, mode):\n",
    "    speedup_df = pd.DataFrame()\n",
    "    speedup_df['speedup'] = df[baseline_mode]['exec_time']/df[mode]['exec_time']\n",
    "    speedup_df.dropna()\n",
    "    print (f\"{mode} speedup over {baseline_mode} stats:\\n Mean {speedup_df['speedup'].mean()}, Max {speedup_df['speedup'].max()}, Min  {speedup_df['speedup'].min()}\")\n",
    "    \n",
    "# print_stats(summary_per_mode, \"seq\", \"hadoopstreaming\")\n",
    "print_stats(summary_per_mode, \"bash\", \"pash\")\n",
    "print_stats(summary_per_mode, \"bash\", \"dish\")\n",
    "print_stats(summary_per_mode, \"bash\", \"fish\")"
   ]
  },
  {
   "cell_type": "code",
   "execution_count": 29,
   "id": "eb756a09",
   "metadata": {},
   "outputs": [
    {
     "name": "stdout",
     "output_type": "stream",
     "text": [
      "Skipping executing covid-mts bash Thu May 23 12:20:53 PM UTC 2024\n",
      "Skipping executing covid-mts pash Thu May 23 12:28:46 PM UTC 2024\n",
      "Skipping executing covid-mts dish Thu May 23 12:10:58 PM UTC 2024\n",
      "Skipping executing covid-mts fish Thu May 23 12:11:51 PM UTC 2024\n",
      "                               benchname  exec_time  benchmark  mode   speedup\n",
      "uid                                                                           \n",
      "./scripts/1.sh_covid-mts  ./scripts/1.sh     21.024  COVID-mts  PaSh  3.216467\n",
      "./scripts/2.sh_covid-mts  ./scripts/2.sh     21.287  COVID-mts  PaSh  3.129046\n",
      "./scripts/3.sh_covid-mts  ./scripts/3.sh     25.341  COVID-mts  PaSh  3.185036\n",
      "./scripts/4.sh_covid-mts  ./scripts/4.sh     16.872  COVID-mts  PaSh  1.374229\n",
      "./scripts/1.sh_covid-mts  ./scripts/1.sh     14.012  COVID-mts  DiSh  4.826078\n",
      "./scripts/2.sh_covid-mts  ./scripts/2.sh     14.291  COVID-mts  DiSh  4.660835\n",
      "./scripts/3.sh_covid-mts  ./scripts/3.sh     18.233  COVID-mts  DiSh  4.426699\n",
      "./scripts/4.sh_covid-mts  ./scripts/4.sh      6.120  COVID-mts  DiSh  3.788562\n",
      "./scripts/1.sh_covid-mts  ./scripts/1.sh     16.921  COVID-mts   NaN  3.996395\n",
      "./scripts/2.sh_covid-mts  ./scripts/2.sh     17.408  COVID-mts   NaN  3.826287\n",
      "./scripts/3.sh_covid-mts  ./scripts/3.sh     21.828  COVID-mts   NaN  3.697636\n",
      "./scripts/4.sh_covid-mts  ./scripts/4.sh     10.232  COVID-mts   NaN  2.266028\n"
     ]
    },
    {
     "data": {
      "image/png": "[encoded data removed]",
      "text/plain": [
       "<Figure size 1170x527 with 1 Axes>"
      ]
     },
     "metadata": {},
     "output_type": "display_data"
    }
   ],
   "source": [
    "def boxplot(df, x, y, savefig=None, ax=None):\n",
    "    f = sns.boxplot(data=df, x = x, y = y, hue=\"mode\", ax=ax)\n",
    "    f.set(yscale='log')\n",
    "    plt.legend(loc='upper left')\n",
    "    f.set(xlabel='Benchmark')\n",
    "    f.axhline(1, ls='--')\n",
    "    if savefig:\n",
    "        plt.savefig(savefig)\n",
    "        \n",
    "# benchmarks = [\"oneliners\", \"unix50\", \"nlp\", \"analytics-mts\"]\n",
    "# modes = [\"seq\", 'hadoopstreaming', \"par\", \"distr\"]\n",
    "benchmarks = [\"covid-mts\"]\n",
    "modes = [\"bash\", 'pash', \"dish\", \"fish\"]\n",
    "summary_per_mode = get_summary_per_mode(benchmarks, modes)\n",
    "df1 = get_speedup_df(summary_per_mode)\n",
    "print(df1)\n",
    "boxplot(df1, x='benchmark', y='speedup', savefig=\"distr_boxplot.pdf\")"
   ]
  },
  {
   "cell_type": "code",
   "execution_count": 23,
   "id": "e92fbfee",
   "metadata": {},
   "outputs": [
    {
     "name": "stdout",
     "output_type": "stream",
     "text": [
      "dependency_untangling/outputs/seq/dependency_untangling.res not found\n",
      "dependency_untangling/outputs/hadoopstreaming/dependency_untangling.res not found\n",
      "dependency_untangling/outputs/par/dependency_untangling.res not found\n",
      "dependency_untangling/outputs/distr/dependency_untangling.res not found\n",
      "max-temp/outputs/seq/max-temp.res not found\n",
      "max-temp/outputs/hadoopstreaming/max-temp.res not found\n",
      "max-temp/outputs/par/max-temp.res not found\n",
      "max-temp/outputs/distr/max-temp.res not found\n",
      "{'seq': Empty DataFrame\n",
      "Columns: [benchmark, mode]\n",
      "Index: [], 'hadoopstreaming': Empty DataFrame\n",
      "Columns: [benchmark, mode]\n",
      "Index: [], 'par': Empty DataFrame\n",
      "Columns: [benchmark, mode]\n",
      "Index: [], 'distr': Empty DataFrame\n",
      "Columns: [benchmark, mode]\n",
      "Index: []}\n"
     ]
    },
    {
     "ename": "KeyError",
     "evalue": "'bash'",
     "output_type": "error",
     "traceback": [
      "\u001b[0;31m---------------------------------------------------------------------------\u001b[0m",
      "\u001b[0;31mKeyError\u001b[0m                                  Traceback (most recent call last)",
      "Cell \u001b[0;32mIn[23], line 15\u001b[0m\n\u001b[1;32m     13\u001b[0m modes \u001b[38;5;241m=\u001b[39m [\u001b[38;5;124m\"\u001b[39m\u001b[38;5;124mseq\u001b[39m\u001b[38;5;124m\"\u001b[39m, \u001b[38;5;124m\"\u001b[39m\u001b[38;5;124mhadoopstreaming\u001b[39m\u001b[38;5;124m\"\u001b[39m, \u001b[38;5;124m\"\u001b[39m\u001b[38;5;124mpar\u001b[39m\u001b[38;5;124m\"\u001b[39m, \u001b[38;5;124m\"\u001b[39m\u001b[38;5;124mdistr\u001b[39m\u001b[38;5;124m\"\u001b[39m]\n\u001b[1;32m     14\u001b[0m summary_per_mode \u001b[38;5;241m=\u001b[39m get_summary_per_mode(benchmarks, modes)\n\u001b[0;32m---> 15\u001b[0m df2 \u001b[38;5;241m=\u001b[39m \u001b[43mget_speedup_df\u001b[49m\u001b[43m(\u001b[49m\u001b[43msummary_per_mode\u001b[49m\u001b[43m)\u001b[49m\n\u001b[1;32m     16\u001b[0m speedup_barplot(df2, \u001b[38;5;124m'\u001b[39m\u001b[38;5;124mbenchname\u001b[39m\u001b[38;5;124m'\u001b[39m, \u001b[38;5;124m'\u001b[39m\u001b[38;5;124mspeedup\u001b[39m\u001b[38;5;124m'\u001b[39m, \u001b[38;5;124m\"\u001b[39m\u001b[38;5;124mpar_vs_distr_barplot.pdf\u001b[39m\u001b[38;5;124m\"\u001b[39m)\n",
      "Cell \u001b[0;32mIn[21], line 46\u001b[0m, in \u001b[0;36mget_speedup_df\u001b[0;34m(summary_per_mode)\u001b[0m\n\u001b[1;32m     44\u001b[0m \u001b[38;5;28;01mif\u001b[39;00m mode \u001b[38;5;241m==\u001b[39m \u001b[38;5;124m'\u001b[39m\u001b[38;5;124mbash\u001b[39m\u001b[38;5;124m'\u001b[39m:\n\u001b[1;32m     45\u001b[0m     \u001b[38;5;28;01mcontinue\u001b[39;00m\n\u001b[0;32m---> 46\u001b[0m summary_per_mode[mode][\u001b[38;5;124m'\u001b[39m\u001b[38;5;124mspeedup\u001b[39m\u001b[38;5;124m'\u001b[39m] \u001b[38;5;241m=\u001b[39m \u001b[43msummary_per_mode\u001b[49m\u001b[43m[\u001b[49m\u001b[38;5;124;43m'\u001b[39;49m\u001b[38;5;124;43mbash\u001b[39;49m\u001b[38;5;124;43m'\u001b[39;49m\u001b[43m]\u001b[49m[\u001b[38;5;124m'\u001b[39m\u001b[38;5;124mexec_time\u001b[39m\u001b[38;5;124m'\u001b[39m]\u001b[38;5;241m/\u001b[39msummary_per_mode[mode][\u001b[38;5;124m'\u001b[39m\u001b[38;5;124mexec_time\u001b[39m\u001b[38;5;124m'\u001b[39m]\n\u001b[1;32m     47\u001b[0m summary_per_mode[mode]\u001b[38;5;241m.\u001b[39mdropna()\n\u001b[1;32m     48\u001b[0m dfs\u001b[38;5;241m.\u001b[39mappend(summary_per_mode[mode])\n",
      "\u001b[0;31mKeyError\u001b[0m: 'bash'"
     ]
    }
   ],
   "source": [
    "def speedup_barplot(df, x, y, savefig=None, ax=None):\n",
    "    f = sns.barplot(data=df, x=x, y = y, hue=\"mode\", ax=ax)\n",
    "    f.set(xlabel='Benchmark')\n",
    "    f.axhline(1, ls='--')\n",
    "    plt.legend(loc='upper left')\n",
    "    plt.xticks(rotation=45)\n",
    "    plt.tight_layout()\n",
    "    f.set(yscale='log')\n",
    "    if savefig:\n",
    "        plt.savefig(savefig)\n",
    "        \n",
    "benchmarks = [\"dependency_untangling\", \"max-temp\"]\n",
    "modes = [\"seq\", \"hadoopstreaming\", \"par\", \"distr\"]\n",
    "\n",
    "summary_per_mode = get_summary_per_mode(benchmarks, modes)\n",
    "df2 = get_speedup_df(summary_per_mode)\n",
    "speedup_barplot(df2, 'benchname', 'speedup', \"par_vs_distr_barplot.pdf\")"
   ]
  },
  {
   "cell_type": "code",
   "execution_count": 24,
   "id": "0f0acad2",
   "metadata": {},
   "outputs": [
    {
     "name": "stderr",
     "output_type": "stream",
     "text": [
      "No artists with labels found to put in legend.  Note that artists whose label start with an underscore are ignored when legend() is called with no argument.\n"
     ]
    },
    {
     "ename": "NameError",
     "evalue": "name 'df2' is not defined",
     "output_type": "error",
     "traceback": [
      "\u001b[0;31m---------------------------------------------------------------------------\u001b[0m",
      "\u001b[0;31mNameError\u001b[0m                                 Traceback (most recent call last)",
      "Cell \u001b[0;32mIn[24], line 4\u001b[0m\n\u001b[1;32m      2\u001b[0m boxplot(df1, \u001b[38;5;124m'\u001b[39m\u001b[38;5;124mbenchmark\u001b[39m\u001b[38;5;124m'\u001b[39m, \u001b[38;5;124m'\u001b[39m\u001b[38;5;124mspeedup\u001b[39m\u001b[38;5;124m'\u001b[39m, \u001b[38;5;28;01mNone\u001b[39;00m, ax[\u001b[38;5;241m0\u001b[39m])\n\u001b[1;32m      3\u001b[0m ax[\u001b[38;5;241m0\u001b[39m]\u001b[38;5;241m.\u001b[39mlegend()\u001b[38;5;241m.\u001b[39mset_visible(\u001b[38;5;28;01mFalse\u001b[39;00m)\n\u001b[0;32m----> 4\u001b[0m speedup_barplot(\u001b[43mdf2\u001b[49m, \u001b[38;5;124m'\u001b[39m\u001b[38;5;124mbenchname\u001b[39m\u001b[38;5;124m'\u001b[39m, \u001b[38;5;124m'\u001b[39m\u001b[38;5;124mspeedup\u001b[39m\u001b[38;5;124m'\u001b[39m, \u001b[38;5;28;01mNone\u001b[39;00m, ax[\u001b[38;5;241m1\u001b[39m])\n\u001b[1;32m      5\u001b[0m leg \u001b[38;5;241m=\u001b[39m plt\u001b[38;5;241m.\u001b[39mlegend( loc \u001b[38;5;241m=\u001b[39m \u001b[38;5;124m'\u001b[39m\u001b[38;5;124mupper right\u001b[39m\u001b[38;5;124m'\u001b[39m)\n\u001b[1;32m      6\u001b[0m \u001b[38;5;66;03m# ax[1].legend().set(loc='upper right')\u001b[39;00m\n",
      "\u001b[0;31mNameError\u001b[0m: name 'df2' is not defined"
     ]
    },
    {
     "data": {
      "image/png": "[encoded data removed]",
      "text/plain": [
       "<Figure size 1170x527 with 2 Axes>"
      ]
     },
     "metadata": {},
     "output_type": "display_data"
    }
   ],
   "source": [
    "fig, ax = plt.subplots(1,2, sharey=True, gridspec_kw={'width_ratios': [2.5, 3]})\n",
    "boxplot(df1, 'benchmark', 'speedup', None, ax[0])\n",
    "ax[0].legend().set_visible(False)\n",
    "speedup_barplot(df2, 'benchname', 'speedup', None, ax[1])\n",
    "leg = plt.legend( loc = 'upper right')\n",
    "# ax[1].legend().set(loc='upper right')\n",
    "for axis in ax:\n",
    "    axis.set(ylim=(0.4, 200))\n",
    "    axis.set_xticklabels(axis.get_xticklabels(), rotation = 25)\n",
    "    axis.set(xlabel=None)\n",
    "    \n",
    "\n",
    "ax[0].set(ylabel=\"Speedup (log-scale)\")\n",
    "ax[1].set(ylabel=None)\n",
    "# ax[1].get_yaxis().set_ticks([])\n",
    "ax[1].tick_params(\n",
    "    axis='y',          # changes apply to the x-axis\n",
    "    which='both',      # both major and minor ticks are affected\n",
    "#     left=True,      # ticks along the bottom edge are off\n",
    "    labelleft=False)\n",
    "\n",
    "# fig.supxlabel('Benchmark')\n",
    "fig.set_size_inches(14, 3, forward=True)\n",
    "\n",
    "plt.tight_layout()\n",
    "\n",
    "\n",
    "# fig.show()\n",
    "plt.savefig(\"full_benchmarks_speedup.pdf\")"
   ]
  },
  {
   "cell_type": "code",
   "execution_count": 97,
   "id": "aca38821",
   "metadata": {},
   "outputs": [
    {
     "name": "stderr",
     "output_type": "stream",
     "text": [
      "No handles with labels found to put in legend.\n"
     ]
    },
    {
     "name": "stdout",
     "output_type": "stream",
     "text": [
      "Skipping executing Unix-for-nlp Fri Jun 17 08:30:47 UTC 2022\n",
      "Skipping executing Unix-for-nlp with distr_no_du pash Fri Jun 17 10:33:59 UTC 2022\n",
      "Skipping executing Unix-for-nlp with distr pash Fri Jun 17 11:26:24 UTC 2022\n",
      "Skipping executing dependency_untangling Thu Jun 16 23:21:59 UTC 2022\n",
      "Skipping executing dependency_untangling with pash Fri Jun 17 00:10:39 UTC 2022\n",
      "Skipping executing dependency_untangling with pash Fri Jun 17 00:39:17 UTC 2022\n",
      "Skipping executing max temp Fri Jun 17 00:44:48 UTC 2022\n",
      "Skipping executing max-temp with distr_no_du pash Fri Jun 17 01:15:38 UTC 2022\n",
      "Skipping executing max-temp with distr pash Fri Jun 17 01:15:47 UTC 2022\n"
     ]
    },
    {
     "data": {
      "image/png": "[encoded data removed]",
      "text/plain": [
       "<Figure size 504x216 with 2 Axes>"
      ]
     },
     "metadata": {},
     "output_type": "display_data"
    }
   ],
   "source": [
    "benchmarks = [\"oneliners\", \"unix50\", \"nlp\", \"analytics-mts\"]\n",
    "modes = [\"seq\", \"distr_no_du\", \"distr\"]\n",
    "summary_per_mode = get_summary_per_mode([\"nlp\"], modes)\n",
    "df1_1 = get_speedup_df(summary_per_mode)\n",
    "\n",
    "summary_per_mode = get_summary_per_mode([\"dependency_untangling\", \"max-temp\"], modes)\n",
    "df2_1 = get_speedup_df(summary_per_mode)\n",
    "\n",
    "fig, ax = plt.subplots(1,2, gridspec_kw={'width_ratios': [2, 5]})\n",
    "boxplot(df1_1, 'benchmark', 'speedup', None, ax[0])\n",
    "ax[0].legend().set_visible(False)\n",
    "speedup_barplot(df2_1, 'benchname', 'speedup', None, ax[1])\n",
    "# ax[0].legend().set_visible(False)\n",
    "\n",
    "for axis in ax:\n",
    "    axis.set(ylim=(0.4, 200))\n",
    "    axis.set_xticklabels(axis.get_xticklabels(), rotation = 25)\n",
    "    axis.set(xlabel=None)\n",
    "    \n",
    "\n",
    "ax[0].set(ylabel=\"Speedup (log-scale)\")\n",
    "ax[1].set(ylabel=None)\n",
    "# ax[1].get_yaxis().set_ticks([])\n",
    "ax[1].tick_params(\n",
    "    axis='y',          # changes apply to the x-axis\n",
    "    which='both',      # both major and minor ticks are affected\n",
    "#     left=True,      # ticks along the bottom edge are off\n",
    "    labelleft=False)\n",
    "\n",
    "# fig.supxlabel('Benchmark')\n",
    "\n",
    "plt.tight_layout()\n",
    "\n",
    "fig.set_size_inches(7, 3, forward=True)\n",
    "\n",
    "plt.tight_layout()\n",
    "\n",
    "# fig.show()\n",
    "plt.savefig(\"dependency_untangling_speedup.pdf\")"
   ]
  },
  {
   "cell_type": "code",
   "execution_count": null,
   "id": "44831774",
   "metadata": {},
   "outputs": [],
   "source": []
  }
 ],
 "metadata": {
  "interpreter": {
   "hash": "31f2aee4e71d21fbe5cf8b01ff0e069b9275f58929596ceb00d14d90e3e16cd6"
  },
  "kernelspec": {
   "display_name": "Python 3",
   "language": "python",
   "name": "python3"
  },
  "language_info": {
   "codemirror_mode": {
    "name": "ipython",
    "version": 3
   },
   "file_extension": ".py",
   "mimetype": "text/x-python",
   "name": "python",
   "nbconvert_exporter": "python",
   "pygments_lexer": "ipython3",
   "version": "3.11.6"
  }
 },
 "nbformat": 4,
 "nbformat_minor": 5
}
